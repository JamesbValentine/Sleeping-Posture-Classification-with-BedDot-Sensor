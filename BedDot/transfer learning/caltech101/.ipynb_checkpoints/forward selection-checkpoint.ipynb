{
 "cells": [
  {
   "cell_type": "code",
   "execution_count": 1,
   "metadata": {},
   "outputs": [
    {
     "name": "stderr",
     "output_type": "stream",
     "text": [
      "Using TensorFlow backend.\n"
     ]
    }
   ],
   "source": [
    "import numpy as np\n",
    "import keras\n",
    "from skimage.measure import block_reduce \n",
    "from keras.models import load_model,Model,Sequential\n",
    "from keras.layers import Dense,Dropout,Flatten,Activation\n",
    "from keras import regularizers\n",
    "from keras.constraints import maxnorm\n",
    "from keras.optimizers import SGD\n",
    "from keras.initializers import glorot_uniform\n",
    "from keras.layers.convolutional import Conv2D\n",
    "from keras.layers.convolutional import MaxPooling2D\n",
    "from keras.layers.normalization import BatchNormalization\n",
    "from keras.preprocessing.image import ImageDataGenerator\n",
    "from keras.utils import np_utils\n",
    "from keras import backend as K\n",
    "if K.backend()=='tensorflow':\n",
    "    K.set_image_dim_ordering(\"tf\")\n",
    "    \n",
    "from keras.applications.inception_v3 import InceptionV3\n",
    "from keras.applications.inception_v3 import preprocess_input\n",
    "from keras.preprocessing import image\n",
    "from keras.models import Model\n",
    "from keras.layers import Dense, GlobalAveragePooling2D"
   ]
  },
  {
   "cell_type": "code",
   "execution_count": 8,
   "metadata": {},
   "outputs": [],
   "source": [
    "############################################\n",
    "#Feature Extraction using numpy pooling\n",
    "############################################\n",
    "#which base model to extract features\n",
    "#which layer(name) to extract features\n",
    "#X: input data(a generator)\n",
    "#steps: steps for predict_generator \n",
    "#size: block_size for image downsampling\n",
    "def extract_features(base, name, X,step,size):\n",
    "    target = Model(inputs=base.input,outputs=base.get_layer(name).output)\n",
    "    features = target.predict_generator(X,steps=steps,verbose=1)\n",
    "    n,a,b,c=features.shape\n",
    "    features1=[]\n",
    "    for i in range(n):\n",
    "        new=block_reduce(features[i,:,:,:], block_size=(size,size,1), func=np.mean)\n",
    "        a,b,c=new.shape\n",
    "        features1.append(new.reshape(a*b*c))\n",
    "    features1=np.stack(features1)\n",
    "    return features1"
   ]
  },
  {
   "cell_type": "code",
   "execution_count": 9,
   "metadata": {},
   "outputs": [
    {
     "name": "stdout",
     "output_type": "stream",
     "text": [
      "Found 1359 images belonging to 102 classes.\n"
     ]
    }
   ],
   "source": [
    "val_generator = test_datagen.flow_from_directory(\n",
    "    '/pylon5/ms3uujp/dx10384/caltech101/test',\n",
    "#    '/pylon5/ms3uujp/dx10384/caltech101/101_ObjectCategories',\n",
    "    target_size = (299, 299),\n",
    "    color_mode = 'rgb',\n",
    "    batch_size = 1,\n",
    "    shuffle=False)"
   ]
  },
  {
   "cell_type": "code",
   "execution_count": 10,
   "metadata": {},
   "outputs": [],
   "source": [
    "label= val_generator.classes\n",
    "steps=len(label)"
   ]
  },
  {
   "cell_type": "code",
   "execution_count": 11,
   "metadata": {},
   "outputs": [],
   "source": [
    "base = InceptionV3(weights='imagenet', include_top=False, input_shape = (299,299,3))"
   ]
  },
  {
   "cell_type": "code",
   "execution_count": 12,
   "metadata": {},
   "outputs": [
    {
     "name": "stdout",
     "output_type": "stream",
     "text": [
      "1359/1359 [==============================] - 69s 51ms/step\n",
      "1359/1359 [==============================] - 13s 10ms/step\n",
      "1359/1359 [==============================] - 14s 10ms/step\n",
      "1359/1359 [==============================] - 14s 10ms/step\n",
      "1359/1359 [==============================] - 15s 11ms/step\n",
      "1359/1359 [==============================] - 16s 12ms/step\n",
      "1359/1359 [==============================] - 18s 13ms/step\n",
      "1359/1359 [==============================] - 20s 15ms/step\n",
      "1359/1359 [==============================] - 21s 15ms/step\n",
      "1359/1359 [==============================] - 24s 18ms/step\n",
      "1359/1359 [==============================] - 28s 21ms/step\n"
     ]
    }
   ],
   "source": [
    "feature1=extract_features(base,'mixed0',val_generator,steps,35)\n",
    "feature2=extract_features(base,'mixed1',val_generator,steps,35)\n",
    "feature3=extract_features(base,'mixed2',val_generator,steps,35)\n",
    "feature4=extract_features(base,'mixed3',val_generator,steps,17)\n",
    "feature5=extract_features(base,'mixed4',val_generator,steps,17)\n",
    "feature6=extract_features(base,'mixed5',val_generator,steps,17)\n",
    "feature7=extract_features(base,'mixed6',val_generator,steps,17)\n",
    "feature8=extract_features(base,'mixed7',val_generator,steps,17)\n",
    "feature9=extract_features(base,'mixed8',val_generator,steps,8)\n",
    "feature10=extract_features(base,'mixed9',val_generator,steps,8)\n",
    "feature11=extract_features(base,'mixed10',val_generator,steps,8)"
   ]
  },
  {
   "cell_type": "code",
   "execution_count": 13,
   "metadata": {},
   "outputs": [],
   "source": [
    "##################################################\n",
    "#Projection correlation \n",
    "##################################################\n",
    "\n",
    "def get_arccos_1d(X):\n",
    "\n",
    "    # X -- a 1D array\n",
    "    \n",
    "    X = np.squeeze(X)\n",
    "    Y = X[:,None] - X\n",
    "    Z = Y.T[:,:,None]*Y.T[:,None]\n",
    "    n = len(X)\n",
    "    \n",
    "    a = np.zeros([n, n, n])\n",
    "    a[Z == 0.] = np.pi/2.\n",
    "    a[Z < 0.] = np.pi\n",
    "    \n",
    "    a = np.transpose(a, (1,2,0))\n",
    "\n",
    "    a_bar_12 = np.mean(a, axis = 0, keepdims = True)\n",
    "    a_bar_02 = np.mean(a, axis = 1, keepdims = True)\n",
    "    a_bar_2  = np.mean(a, axis = (0,1), keepdims = True)\n",
    "    A = a - a_bar_12 - a_bar_02 + a_bar_2\n",
    "    \n",
    "    return a, A\n",
    "\n",
    "\n",
    "def get_arccos(X):\n",
    "\n",
    "    # X -- a 2D array\n",
    "    \n",
    "    n, p = X.shape\n",
    "    cos_a = np.zeros([n, n, n])\n",
    "    \n",
    "    for r in range(n):\n",
    "        \n",
    "        xr = X[r]\n",
    "        X_r = X - xr\n",
    "        cross = np.dot(X_r, X_r.T)\n",
    "        row_norm = np.sqrt(np.sum(X_r**2, axis = 1))\n",
    "        outer_norm = np.outer(row_norm, row_norm)\n",
    "        \n",
    "        zero_idx = (outer_norm == 0.)\n",
    "        outer_norm[zero_idx] = 1.\n",
    "        cos_a_kl = cross / outer_norm\n",
    "        cos_a_kl[zero_idx] = 0.\n",
    "\n",
    "        cos_a[:,:,r] = cos_a_kl\n",
    "        \n",
    "    cos_a[cos_a > 1] = 1.\n",
    "    cos_a[cos_a < -1] = -1.\n",
    "    a = np.arccos(cos_a)\n",
    "\n",
    "    a_bar_12 = np.mean(a, axis = 0, keepdims = True)\n",
    "    a_bar_02 = np.mean(a, axis = 1, keepdims = True)\n",
    "    a_bar_2  = np.mean(a, axis = (0,1), keepdims = True)\n",
    "    A = a - a_bar_12 - a_bar_02 + a_bar_2\n",
    "        \n",
    "    return a, A\n",
    "\n",
    "def projection_corr_1dy(X, Y):\n",
    "\n",
    "    \"\"\"\n",
    "    compute the projection correlation where\n",
    "    X -- an n*p 2D array\n",
    "    Y -- an n*1 2D array\n",
    "    \"\"\"\n",
    "    \n",
    "    nx, p = X.shape\n",
    "    ny, q = Y.shape\n",
    "    \n",
    "    if nx == ny:\n",
    "        n = nx\n",
    "    else:\n",
    "        raise ValueError(\"sample sizes do not match.\")\n",
    "        \n",
    "    a_x, A_x = get_arccos(X)\n",
    "    a_y, A_y = get_arccos_1d(Y)\n",
    "    \n",
    "    S_xy = np.sum(A_x * A_y) / (n**3)\n",
    "    S_xx = np.sum(A_x**2) / (n**3)\n",
    "    S_yy = np.sum(A_y**2) / (n**3)\n",
    "    \n",
    "    if S_xx * S_yy == 0.:\n",
    "        corr = 0.\n",
    "    else:\n",
    "        corr = np.sqrt( S_xy / np.sqrt(S_xx * S_yy) )\n",
    "    \n",
    "    return corr"
   ]
  },
  {
   "cell_type": "code",
   "execution_count": 15,
   "metadata": {},
   "outputs": [],
   "source": [
    "j=1\n",
    "from sklearn.utils import shuffle\n",
    "nsample=np.array([500,1000,1500])\n",
    "subfeature1,sublabel1=shuffle(feature1,label,n_samples=nsample[j])\n",
    "subfeature2,sublabel2=shuffle(feature2,label,n_samples=nsample[j])\n",
    "subfeature3,sublabel3=shuffle(feature3,label,n_samples=nsample[j])\n",
    "subfeature4,sublabel4=shuffle(feature4,label,n_samples=nsample[j])\n",
    "subfeature5,sublabel5=shuffle(feature5,label,n_samples=nsample[j])\n",
    "subfeature6,sublabel6=shuffle(feature6,label,n_samples=nsample[j])\n",
    "subfeature7,sublabel7=shuffle(feature7,label,n_samples=nsample[j])\n",
    "subfeature8,sublabel8=shuffle(feature8,label,n_samples=nsample[j])\n",
    "subfeature9,sublabel9=shuffle(feature9,label,n_samples=nsample[j])\n",
    "subfeature10,sublabel10=shuffle(feature10,label,n_samples=nsample[j])\n",
    "subfeature11,sublabel11=shuffle(feature11,label,n_samples=nsample[j])"
   ]
  },
  {
   "cell_type": "code",
   "execution_count": null,
   "metadata": {},
   "outputs": [
    {
     "name": "stdout",
     "output_type": "stream",
     "text": [
      "0.18678991155780364\n",
      "0.19121241992449575\n",
      "0.23617342279109474\n",
      "0.2580383245790337\n",
      "0.3244303306536486\n",
      "0.33725607228313753\n",
      "0.37315819275569667\n",
      "0.3251593439002487\n"
     ]
    }
   ],
   "source": [
    "print (projection_corr_1dy(subfeature1,sublabel1.reshape(-1,1)))\n",
    "print (projection_corr_1dy(subfeature2,sublabel2.reshape(-1,1)))\n",
    "print (projection_corr_1dy(subfeature3,sublabel3.reshape(-1,1)))\n",
    "print (projection_corr_1dy(subfeature4,sublabel4.reshape(-1,1)))\n",
    "print (projection_corr_1dy(subfeature5,sublabel5.reshape(-1,1)))\n",
    "print (projection_corr_1dy(subfeature6,sublabel6.reshape(-1,1)))\n",
    "print (projection_corr_1dy(subfeature7,sublabel7.reshape(-1,1)))\n",
    "print (projection_corr_1dy(subfeature8,sublabel8.reshape(-1,1)))\n",
    "print (projection_corr_1dy(subfeature9,sublabel9.reshape(-1,1)))\n",
    "print (projection_corr_1dy(subfeature10,sublabel10.reshape(-1,1)))\n",
    "print (projection_corr_1dy(subfeature11,sublabel11.reshape(-1,1)))"
   ]
  },
  {
   "cell_type": "code",
   "execution_count": null,
   "metadata": {},
   "outputs": [],
   "source": []
  }
 ],
 "metadata": {
  "kernelspec": {
   "display_name": "Python 3",
   "language": "python",
   "name": "python3"
  },
  "language_info": {
   "codemirror_mode": {
    "name": "ipython",
    "version": 3
   },
   "file_extension": ".py",
   "mimetype": "text/x-python",
   "name": "python",
   "nbconvert_exporter": "python",
   "pygments_lexer": "ipython3",
   "version": "3.8.3"
  }
 },
 "nbformat": 4,
 "nbformat_minor": 2
}
