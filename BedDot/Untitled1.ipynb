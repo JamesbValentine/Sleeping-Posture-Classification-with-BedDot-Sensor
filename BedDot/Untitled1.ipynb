{
 "cells": [
  {
   "cell_type": "code",
   "execution_count": 1,
   "id": "1f935815",
   "metadata": {},
   "outputs": [
    {
     "name": "stderr",
     "output_type": "stream",
     "text": [
      "2023-05-07 17:17:58.978855: I tensorflow/core/platform/cpu_feature_guard.cc:193] This TensorFlow binary is optimized with oneAPI Deep Neural Network Library (oneDNN) to use the following CPU instructions in performance-critical operations:  SSE4.1 SSE4.2\n",
      "To enable them in other operations, rebuild TensorFlow with the appropriate compiler flags.\n"
     ]
    }
   ],
   "source": [
    "# Import packages\n",
    "import numpy as np\n",
    "import pandas as pd\n",
    "import warnings\n",
    "warnings.filterwarnings('ignore')\n",
    "from tensorflow import keras\n",
    "import random"
   ]
  },
  {
   "cell_type": "code",
   "execution_count": 4,
   "id": "6931288a",
   "metadata": {},
   "outputs": [],
   "source": [
    "def load_larger_dataset_first_scenario():\n",
    "    dataset = pd.read_csv('signal_1000_posture_4.csv')\n",
    "    dataset = dataset.reset_index(drop = True)\n",
    "    dataset['date'] = dataset['Time'].str.slice(stop=10)\n",
    "    dataset['Day'] = pd.Categorical(dataset.date).codes\n",
    "    random_values = np.random.randint(0, 44, size=20)\n",
    "    subset = dataset[dataset['Day'].isin(random_values)]\n",
    "    total_rows = subset.shape[0]\n",
    "    train_nrows = int(total_rows * 0.7)\n",
    "\n",
    "    train = subset.iloc[:train_nrows, :]\n",
    "    test = subset.iloc[train_nrows: , :]\n",
    "\n",
    "    rows = train.values.tolist()\n",
    "    random.shuffle(rows)\n",
    "    train = pd.DataFrame(data=rows, columns=train.columns)\n",
    "\n",
    "    rows = test.values.tolist()\n",
    "    random.shuffle(rows)\n",
    "    test = pd.DataFrame(data=rows, columns=test.columns)\n",
    "\n",
    "    train_set_x_orig = train.iloc[:, 2:1002] # train set features\n",
    "    train_set_y_orig = train.iloc[:, 1] # train set labels\n",
    "\n",
    "    test_set_x_orig = test.iloc[:, 2:1002]# test set features\n",
    "    test_set_y_orig = test.iloc[:, 1] # test set labels\n",
    "\n",
    "\n",
    "    return train_set_x_orig, train_set_y_orig, test_set_x_orig, test_set_y_orig, dataset, train, test\n",
    "\n"
   ]
  },
  {
   "cell_type": "code",
   "execution_count": 5,
   "id": "de03d055",
   "metadata": {},
   "outputs": [],
   "source": [
    "train_set_x_orig, train_set_y_orig, test_set_x_orig, test_set_y_orig, dataset, train_set, test_set = load_larger_dataset_first_scenario()"
   ]
  },
  {
   "cell_type": "code",
   "execution_count": 6,
   "id": "57d4154d",
   "metadata": {},
   "outputs": [
    {
     "data": {
      "text/html": [
       "<div>\n",
       "<style scoped>\n",
       "    .dataframe tbody tr th:only-of-type {\n",
       "        vertical-align: middle;\n",
       "    }\n",
       "\n",
       "    .dataframe tbody tr th {\n",
       "        vertical-align: top;\n",
       "    }\n",
       "\n",
       "    .dataframe thead th {\n",
       "        text-align: right;\n",
       "    }\n",
       "</style>\n",
       "<table border=\"1\" class=\"dataframe\">\n",
       "  <thead>\n",
       "    <tr style=\"text-align: right;\">\n",
       "      <th></th>\n",
       "      <th>count</th>\n",
       "    </tr>\n",
       "    <tr>\n",
       "      <th>Action</th>\n",
       "      <th></th>\n",
       "    </tr>\n",
       "  </thead>\n",
       "  <tbody>\n",
       "    <tr>\n",
       "      <th>go_to_the_bed</th>\n",
       "      <td>1822</td>\n",
       "    </tr>\n",
       "    <tr>\n",
       "      <th>sleep_on_right_side</th>\n",
       "      <td>783</td>\n",
       "    </tr>\n",
       "    <tr>\n",
       "      <th>sleep_on_left_side</th>\n",
       "      <td>489</td>\n",
       "    </tr>\n",
       "    <tr>\n",
       "      <th>sleep_on_stomach</th>\n",
       "      <td>347</td>\n",
       "    </tr>\n",
       "  </tbody>\n",
       "</table>\n",
       "</div>"
      ],
      "text/plain": [
       "                     count\n",
       "Action                    \n",
       "go_to_the_bed         1822\n",
       "sleep_on_right_side    783\n",
       "sleep_on_left_side     489\n",
       "sleep_on_stomach       347"
      ]
     },
     "execution_count": 6,
     "metadata": {},
     "output_type": "execute_result"
    }
   ],
   "source": [
    "pd.DataFrame(train_set_y_orig.value_counts())"
   ]
  },
  {
   "cell_type": "code",
   "execution_count": 7,
   "id": "78ed3e95",
   "metadata": {},
   "outputs": [
    {
     "data": {
      "text/html": [
       "<div>\n",
       "<style scoped>\n",
       "    .dataframe tbody tr th:only-of-type {\n",
       "        vertical-align: middle;\n",
       "    }\n",
       "\n",
       "    .dataframe tbody tr th {\n",
       "        vertical-align: top;\n",
       "    }\n",
       "\n",
       "    .dataframe thead th {\n",
       "        text-align: right;\n",
       "    }\n",
       "</style>\n",
       "<table border=\"1\" class=\"dataframe\">\n",
       "  <thead>\n",
       "    <tr style=\"text-align: right;\">\n",
       "      <th></th>\n",
       "      <th>count</th>\n",
       "    </tr>\n",
       "    <tr>\n",
       "      <th>Action</th>\n",
       "      <th></th>\n",
       "    </tr>\n",
       "  </thead>\n",
       "  <tbody>\n",
       "    <tr>\n",
       "      <th>go_to_the_bed</th>\n",
       "      <td>1179</td>\n",
       "    </tr>\n",
       "    <tr>\n",
       "      <th>sleep_on_stomach</th>\n",
       "      <td>113</td>\n",
       "    </tr>\n",
       "    <tr>\n",
       "      <th>sleep_on_left_side</th>\n",
       "      <td>97</td>\n",
       "    </tr>\n",
       "    <tr>\n",
       "      <th>sleep_on_right_side</th>\n",
       "      <td>87</td>\n",
       "    </tr>\n",
       "  </tbody>\n",
       "</table>\n",
       "</div>"
      ],
      "text/plain": [
       "                     count\n",
       "Action                    \n",
       "go_to_the_bed         1179\n",
       "sleep_on_stomach       113\n",
       "sleep_on_left_side      97\n",
       "sleep_on_right_side     87"
      ]
     },
     "execution_count": 7,
     "metadata": {},
     "output_type": "execute_result"
    }
   ],
   "source": [
    "pd.DataFrame(test_set_y_orig.value_counts())"
   ]
  },
  {
   "cell_type": "code",
   "execution_count": 8,
   "id": "1ccc32ec",
   "metadata": {},
   "outputs": [],
   "source": [
    "def transform_label(df):\n",
    "    mapping = {'go_to_the_bed': 0, 'sleep_on_stomach': 1, 'sleep_on_left_side': 2, 'sleep_on_right_side': 3}\n",
    "    new_array = np.array(df.replace(mapping))\n",
    "    return new_array.astype('int64')"
   ]
  },
  {
   "cell_type": "code",
   "execution_count": 9,
   "id": "d6ab961a",
   "metadata": {},
   "outputs": [],
   "source": [
    "train_set_y = transform_label(train_set_y_orig)\n",
    "test_set_y = transform_label(test_set_y_orig)\n",
    "\n",
    "Y = pd.get_dummies(train_set_y)\n",
    "Y = Y.replace({True: 1, False: 0}).astype(float)\n",
    "\n",
    "from sklearn.preprocessing import StandardScaler\n",
    "\n",
    "# create a StandardScaler object\n",
    "scaler = StandardScaler()\n",
    "\n",
    "# fit the scaler to your dataframe and transform it\n",
    "train_x_std = scaler.fit_transform(train_set_x_orig)\n",
    "train_x = pd.DataFrame(train_x_std)"
   ]
  },
  {
   "cell_type": "code",
   "execution_count": 64,
   "id": "512146cd",
   "metadata": {},
   "outputs": [],
   "source": [
    "from keras import backend as K\n",
    "from tensorflow.keras import layers, regularizers\n",
    "import tensorflow as tf\n",
    "warnings.filterwarnings('ignore')\n",
    "\n",
    "def create_first_model():\n",
    "    model = tf.keras.Sequential([\n",
    "        tf.keras.layers.Input(1000),\n",
    "        tf.keras.layers.BatchNormalization(),\n",
    "        tf.keras.layers.Dense(2000, activation=\"relu\"),\n",
    "        tf.keras.layers.BatchNormalization(),\n",
    "#         tf.keras.layers.Dropout(0.5),\n",
    "        tf.keras.layers.Dense(2000, activation=\"relu\"),\n",
    "        tf.keras.layers.BatchNormalization(),\n",
    "#         tf.keras.layers.Dropout(0.5),\n",
    "        tf.keras.layers.Dense(2000, activation=\"relu\"),\n",
    "        tf.keras.layers.BatchNormalization(),\n",
    "#         tf.keras.layers.Dropout(0.5),\n",
    "        tf.keras.layers.Dense(2000, activation=\"relu\"),\n",
    "        tf.keras.layers.BatchNormalization(),\n",
    "        tf.keras.layers.Dropout(0.5),\n",
    "        tf.keras.layers.Dense(1000, activation=\"relu\"),\n",
    "        tf.keras.layers.BatchNormalization(),\n",
    "        tf.keras.layers.Dropout(0.5),\n",
    "        tf.keras.layers.Dense(200, activation=\"relu\"),\n",
    "        tf.keras.layers.BatchNormalization(),\n",
    "        tf.keras.layers.Dropout(0.3),\n",
    "        tf.keras.layers.Dense(20, activation=\"relu\"),\n",
    "        tf.keras.layers.BatchNormalization(),\n",
    "        tf.keras.layers.Dropout(0.2),\n",
    "        tf.keras.layers.Dense(4, activation=tf.nn.softmax)\n",
    "    ])\n",
    "    model.compile(optimizer='adam', loss=\"categorical_crossentropy\", metrics=['acc'])\n",
    "    return model"
   ]
  },
  {
   "cell_type": "code",
   "execution_count": 65,
   "id": "f5420c96",
   "metadata": {},
   "outputs": [
    {
     "name": "stdout",
     "output_type": "stream",
     "text": [
      "Epoch 1/100\n",
      "25/25 [==============================] - 6s 196ms/step - loss: 1.6149 - acc: 0.4215 - val_loss: 4.3874 - val_acc: 0.2227\n",
      "Epoch 2/100\n",
      "25/25 [==============================] - 4s 160ms/step - loss: 1.1466 - acc: 0.5714 - val_loss: 3.8255 - val_acc: 0.4124\n",
      "Epoch 3/100\n",
      "25/25 [==============================] - 4s 149ms/step - loss: 1.0106 - acc: 0.6154 - val_loss: 3.1016 - val_acc: 0.3020\n",
      "Epoch 4/100\n",
      "25/25 [==============================] - 4s 150ms/step - loss: 0.8186 - acc: 0.7139 - val_loss: 2.3135 - val_acc: 0.3795\n",
      "Epoch 5/100\n",
      "25/25 [==============================] - 4s 150ms/step - loss: 0.7211 - acc: 0.7546 - val_loss: 1.2800 - val_acc: 0.5808\n",
      "Epoch 6/100\n",
      "25/25 [==============================] - 4s 149ms/step - loss: 0.7543 - acc: 0.7521 - val_loss: 1.3354 - val_acc: 0.5799\n",
      "Epoch 7/100\n",
      "25/25 [==============================] - 4s 151ms/step - loss: 0.5749 - acc: 0.8119 - val_loss: 1.2224 - val_acc: 0.6409\n",
      "Epoch 8/100\n",
      "25/25 [==============================] - 4s 147ms/step - loss: 0.4330 - acc: 0.8717 - val_loss: 0.9854 - val_acc: 0.7183\n",
      "Epoch 9/100\n",
      "25/25 [==============================] - 4s 150ms/step - loss: 0.4553 - acc: 0.8563 - val_loss: 0.9965 - val_acc: 0.7241\n",
      "Epoch 10/100\n",
      "25/25 [==============================] - 4s 162ms/step - loss: 0.4152 - acc: 0.8663 - val_loss: 1.0480 - val_acc: 0.7018\n",
      "Epoch 11/100\n",
      "25/25 [==============================] - 4s 154ms/step - loss: 0.3532 - acc: 0.8916 - val_loss: 0.9826 - val_acc: 0.7328\n",
      "Epoch 12/100\n",
      "25/25 [==============================] - 4s 154ms/step - loss: 0.4571 - acc: 0.8547 - val_loss: 1.0921 - val_acc: 0.6873\n",
      "Epoch 13/100\n",
      "25/25 [==============================] - 4s 154ms/step - loss: 0.3301 - acc: 0.9007 - val_loss: 0.9357 - val_acc: 0.7338\n",
      "Epoch 14/100\n",
      "25/25 [==============================] - 4s 157ms/step - loss: 0.2288 - acc: 0.9369 - val_loss: 0.8989 - val_acc: 0.7609\n",
      "Epoch 15/100\n",
      "25/25 [==============================] - 4s 156ms/step - loss: 0.3863 - acc: 0.8821 - val_loss: 1.1780 - val_acc: 0.7009\n",
      "Epoch 16/100\n",
      "25/25 [==============================] - 4s 152ms/step - loss: 0.3842 - acc: 0.8758 - val_loss: 0.9993 - val_acc: 0.7309\n",
      "Epoch 17/100\n",
      "25/25 [==============================] - 4s 152ms/step - loss: 0.2819 - acc: 0.9199 - val_loss: 1.0982 - val_acc: 0.7570\n",
      "Epoch 18/100\n",
      "25/25 [==============================] - 4s 151ms/step - loss: 0.2249 - acc: 0.9369 - val_loss: 0.9625 - val_acc: 0.7696\n",
      "Epoch 19/100\n",
      "25/25 [==============================] - 4s 151ms/step - loss: 0.1953 - acc: 0.9439 - val_loss: 1.0188 - val_acc: 0.7648\n",
      "Epoch 20/100\n",
      "25/25 [==============================] - 4s 152ms/step - loss: 0.1212 - acc: 0.9713 - val_loss: 0.9668 - val_acc: 0.7783\n",
      "Epoch 21/100\n",
      "25/25 [==============================] - 4s 150ms/step - loss: 0.1285 - acc: 0.9684 - val_loss: 0.9923 - val_acc: 0.7706\n",
      "Epoch 22/100\n",
      "25/25 [==============================] - 4s 147ms/step - loss: 0.2593 - acc: 0.9257 - val_loss: 0.9342 - val_acc: 0.7725\n",
      "Epoch 23/100\n",
      "25/25 [==============================] - 4s 151ms/step - loss: 0.3647 - acc: 0.8854 - val_loss: 1.0471 - val_acc: 0.7318\n",
      "Epoch 24/100\n",
      "25/25 [==============================] - 4s 150ms/step - loss: 0.1756 - acc: 0.9518 - val_loss: 0.8870 - val_acc: 0.7715\n",
      "Epoch 25/100\n",
      "25/25 [==============================] - 4s 151ms/step - loss: 0.1350 - acc: 0.9664 - val_loss: 0.9501 - val_acc: 0.7561\n"
     ]
    }
   ],
   "source": [
    "import keras\n",
    "first_model = create_first_model()\n",
    "callbacks=[\n",
    "           keras.callbacks.EarlyStopping(monitor='loss',\n",
    "           patience=5,\n",
    "           ),\n",
    "           keras.callbacks.TensorBoard(\n",
    "               log_dir='my_log_dir',\n",
    "               histogram_freq=1,\n",
    "               embeddings_freq=1,\n",
    "           )\n",
    "]\n",
    "\n",
    "first_history = first_model.fit(\n",
    "    train_x.values,\n",
    "    Y.values,\n",
    "    validation_split=0.3,\n",
    "    epochs=100,\n",
    "    # callbacks=callbacks,\n",
    "    batch_size=100,\n",
    "    callbacks=[callbacks],\n",
    ");"
   ]
  },
  {
   "cell_type": "code",
   "execution_count": 66,
   "id": "c32f3be4",
   "metadata": {},
   "outputs": [
    {
     "name": "stdout",
     "output_type": "stream",
     "text": [
      "47/47 [==============================] - 1s 12ms/step\n",
      "0.5074525745257452\n"
     ]
    }
   ],
   "source": [
    "scaler = StandardScaler()\n",
    "# fit the scaler to your dataframe and transform it\n",
    "test_x_std = scaler.fit_transform(test_set_x_orig)\n",
    "test_x = pd.DataFrame(test_x_std)\n",
    "\n",
    "result = first_model.predict(test_x)\n",
    "tmp = np.argmax(result, axis=1)\n",
    "\n",
    "from sklearn.metrics import accuracy_score\n",
    "print(accuracy_score(test_set_y,tmp))"
   ]
  },
  {
   "cell_type": "code",
   "execution_count": 67,
   "id": "44d126d0",
   "metadata": {},
   "outputs": [
    {
     "name": "stdout",
     "output_type": "stream",
     "text": [
      "[[713  72  66  47]\n",
      " [ 97   8  18  15]\n",
      " [174   5   4   1]\n",
      " [195  28   9  24]]\n"
     ]
    }
   ],
   "source": [
    "from sklearn.metrics import confusion_matrix\n",
    "NN_confusion_matrix = confusion_matrix(test_set_y, tmp).T\n",
    "print(NN_confusion_matrix)"
   ]
  },
  {
   "cell_type": "code",
   "execution_count": null,
   "id": "40f21fa9",
   "metadata": {},
   "outputs": [],
   "source": []
  }
 ],
 "metadata": {
  "kernelspec": {
   "display_name": "Python 3.8 (tensorflow_env)",
   "language": "python",
   "name": "tensorflow_env"
  },
  "language_info": {
   "codemirror_mode": {
    "name": "ipython",
    "version": 3
   },
   "file_extension": ".py",
   "mimetype": "text/x-python",
   "name": "python",
   "nbconvert_exporter": "python",
   "pygments_lexer": "ipython3",
   "version": "3.8.16"
  }
 },
 "nbformat": 4,
 "nbformat_minor": 5
}
